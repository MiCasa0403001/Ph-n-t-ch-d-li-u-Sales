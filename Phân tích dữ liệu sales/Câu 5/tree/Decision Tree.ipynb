{
 "cells": [
  {
   "cell_type": "markdown",
   "metadata": {},
   "source": [
    "# Khách hàng muốn đầu tư về đồ công nghệ thì nên đầu tư vào vùng nào và nên đầu tư loại sản phẩm nào."
   ]
  },
  {
   "cell_type": "code",
   "execution_count": 1,
   "metadata": {},
   "outputs": [],
   "source": [
    "import numpy as np\n",
    "import pandas as pd\n",
    "import seaborn as sns\n",
    "import matplotlib.pyplot as plt\n"
   ]
  },
  {
   "cell_type": "code",
   "execution_count": 2,
   "metadata": {},
   "outputs": [],
   "source": [
    "# đọc dữ liệu\n",
    "df = pd.read_csv('Câu 5.csv')"
   ]
  },
  {
   "cell_type": "code",
   "execution_count": 3,
   "metadata": {},
   "outputs": [],
   "source": [
    "df.drop(columns=['Unnamed: 0'], inplace=True)"
   ]
  },
  {
   "cell_type": "code",
   "execution_count": 4,
   "metadata": {},
   "outputs": [],
   "source": [
    "df['Year'] = df['Year'].astype(str)\n",
    "df['Year'] = df['Year']\\\n",
    "    .replace({'2015': 1, '2016': 2, '2017': 3, '2018': 4})\n",
    "# 1,2,3,4 lần lượt là 2015, 2016, 2017, 2018"
   ]
  },
  {
   "cell_type": "code",
   "execution_count": 5,
   "metadata": {},
   "outputs": [],
   "source": [
    "df['Segment'] = df['Segment'].astype(str)\n",
    "df['Segment'] = df['Segment']\\\n",
    "    .replace({'Consumer': 1, 'Corporate': 2, 'Home Office': 3})\n",
    "# 1,2,3 lần lượt là Consumer, corporate, Home office\n"
   ]
  },
  {
   "cell_type": "code",
   "execution_count": 6,
   "metadata": {},
   "outputs": [],
   "source": [
    "df['Region'] = df['Region'].astype(str)\n",
    "df['Region'] = df['Region']\\\n",
    "    .replace({'West': 1, 'East': 2, 'Central': 3, 'South': 4}) \n",
    "## 1,2,3,4 lần lượt là West East, Central, South"
   ]
  },
  {
   "cell_type": "code",
   "execution_count": 7,
   "metadata": {},
   "outputs": [],
   "source": [
    "df['Category'] = df['Category'].astype(str)\n",
    "df['Category'] = df['Category']\\\n",
    "    .replace({'Office Supplies': 1, 'Furniture': 2, 'Technology': 3}) \n",
    "## 1,2,3 lần lượt là Office Supplies, Furniture, Teachnology"
   ]
  },
  {
   "cell_type": "code",
   "execution_count": 8,
   "metadata": {},
   "outputs": [],
   "source": [
    "df['Sales review'] = df['Sales review'].astype(str)\n",
    "df['Sales review'] = df['Sales review']\\\n",
    "    .replace({'Thấp': 1, 'Trung Bình': 2, 'Cao': 3, 'Siêu Cao': 4}) \n",
    "## 1,2,3,4 lần lượt là thấp, trung bình, cao, siêu cao"
   ]
  },
  {
   "cell_type": "code",
   "execution_count": 9,
   "metadata": {},
   "outputs": [],
   "source": [
    "df['Month'] = df['Month'].astype(str)\n",
    "df['Month'] = df['Month']\\\n",
    "    .replace({'1' : 1, '2' : 1,  '3' : 1,\\\n",
    "        '4' : 2, '5' : 2 , '6' : 2,\\\n",
    "            '7' : 3, '8' : 3 , '9' : 3,\\\n",
    "                '10' : 4, '11' : 4 , '12' : 4})"
   ]
  },
  {
   "cell_type": "code",
   "execution_count": 10,
   "metadata": {},
   "outputs": [
    {
     "data": {
      "text/html": [
       "<div>\n",
       "<style scoped>\n",
       "    .dataframe tbody tr th:only-of-type {\n",
       "        vertical-align: middle;\n",
       "    }\n",
       "\n",
       "    .dataframe tbody tr th {\n",
       "        vertical-align: top;\n",
       "    }\n",
       "\n",
       "    .dataframe thead th {\n",
       "        text-align: right;\n",
       "    }\n",
       "</style>\n",
       "<table border=\"1\" class=\"dataframe\">\n",
       "  <thead>\n",
       "    <tr style=\"text-align: right;\">\n",
       "      <th></th>\n",
       "      <th>Order Date</th>\n",
       "      <th>Year</th>\n",
       "      <th>Month</th>\n",
       "      <th>Segment</th>\n",
       "      <th>Country</th>\n",
       "      <th>City</th>\n",
       "      <th>State</th>\n",
       "      <th>Region</th>\n",
       "      <th>Category</th>\n",
       "      <th>Sub-Category</th>\n",
       "      <th>Sales</th>\n",
       "      <th>Sales review</th>\n",
       "    </tr>\n",
       "  </thead>\n",
       "  <tbody>\n",
       "    <tr>\n",
       "      <th>0</th>\n",
       "      <td>2017-11-08</td>\n",
       "      <td>3</td>\n",
       "      <td>4</td>\n",
       "      <td>1</td>\n",
       "      <td>United States</td>\n",
       "      <td>Henderson</td>\n",
       "      <td>Kentucky</td>\n",
       "      <td>4</td>\n",
       "      <td>2</td>\n",
       "      <td>Bookcases</td>\n",
       "      <td>261.960000</td>\n",
       "      <td>4</td>\n",
       "    </tr>\n",
       "    <tr>\n",
       "      <th>1</th>\n",
       "      <td>2017-11-08</td>\n",
       "      <td>3</td>\n",
       "      <td>4</td>\n",
       "      <td>1</td>\n",
       "      <td>United States</td>\n",
       "      <td>Henderson</td>\n",
       "      <td>Kentucky</td>\n",
       "      <td>4</td>\n",
       "      <td>2</td>\n",
       "      <td>Chairs</td>\n",
       "      <td>731.940000</td>\n",
       "      <td>4</td>\n",
       "    </tr>\n",
       "    <tr>\n",
       "      <th>2</th>\n",
       "      <td>2017-06-12</td>\n",
       "      <td>3</td>\n",
       "      <td>2</td>\n",
       "      <td>2</td>\n",
       "      <td>United States</td>\n",
       "      <td>Los Angeles</td>\n",
       "      <td>California</td>\n",
       "      <td>1</td>\n",
       "      <td>1</td>\n",
       "      <td>Labels</td>\n",
       "      <td>14.620000</td>\n",
       "      <td>1</td>\n",
       "    </tr>\n",
       "    <tr>\n",
       "      <th>3</th>\n",
       "      <td>2016-10-11</td>\n",
       "      <td>2</td>\n",
       "      <td>4</td>\n",
       "      <td>1</td>\n",
       "      <td>United States</td>\n",
       "      <td>Fort Lauderdale</td>\n",
       "      <td>Florida</td>\n",
       "      <td>4</td>\n",
       "      <td>2</td>\n",
       "      <td>Tables</td>\n",
       "      <td>201.864499</td>\n",
       "      <td>3</td>\n",
       "    </tr>\n",
       "    <tr>\n",
       "      <th>4</th>\n",
       "      <td>2016-10-11</td>\n",
       "      <td>2</td>\n",
       "      <td>4</td>\n",
       "      <td>1</td>\n",
       "      <td>United States</td>\n",
       "      <td>Fort Lauderdale</td>\n",
       "      <td>Florida</td>\n",
       "      <td>4</td>\n",
       "      <td>1</td>\n",
       "      <td>Storage</td>\n",
       "      <td>22.368000</td>\n",
       "      <td>2</td>\n",
       "    </tr>\n",
       "  </tbody>\n",
       "</table>\n",
       "</div>"
      ],
      "text/plain": [
       "   Order Date  Year  Month  Segment        Country             City  \\\n",
       "0  2017-11-08     3      4        1  United States        Henderson   \n",
       "1  2017-11-08     3      4        1  United States        Henderson   \n",
       "2  2017-06-12     3      2        2  United States      Los Angeles   \n",
       "3  2016-10-11     2      4        1  United States  Fort Lauderdale   \n",
       "4  2016-10-11     2      4        1  United States  Fort Lauderdale   \n",
       "\n",
       "        State  Region  Category Sub-Category       Sales Sales review  \n",
       "0    Kentucky       4         2    Bookcases  261.960000            4  \n",
       "1    Kentucky       4         2       Chairs  731.940000            4  \n",
       "2  California       1         1       Labels   14.620000            1  \n",
       "3     Florida       4         2       Tables  201.864499            3  \n",
       "4     Florida       4         1      Storage   22.368000            2  "
      ]
     },
     "execution_count": 10,
     "metadata": {},
     "output_type": "execute_result"
    }
   ],
   "source": [
    "df.head()"
   ]
  },
  {
   "cell_type": "code",
   "execution_count": 11,
   "metadata": {},
   "outputs": [],
   "source": [
    "# Chọn các cột tính năng là Thời gian ( năm, tháng) , khu vực, dối tượng khách hàng, loại sản phẩm và đánh giá sales để phục vụ cho câu 5.\n",
    "# Dựa trên kiến thức thực tế, chúng ta có thể thấy rằng doanh số sẽ phụ thuộc vào các thời điểm trong năm, với mỗi đối tượng khách hàng, sản phẩm \n",
    "# và tùy theo từng vùng sẽ có doanh số khác nhau vì vậy trong trường hợp này không cần kiểm định sự tương quan giữa các tính năng trong các cột đã chọn.\n",
    "# Khi chọn khu vực thì các thành phố và các bang sẽ nằm trong đó, tương tự như các cột còn lại."
   ]
  },
  {
   "cell_type": "code",
   "execution_count": 12,
   "metadata": {},
   "outputs": [],
   "source": [
    "df_transform = df[['Year','Month','Segment','Region','Category','Sales review']]"
   ]
  },
  {
   "cell_type": "code",
   "execution_count": 13,
   "metadata": {},
   "outputs": [
    {
     "name": "stderr",
     "output_type": "stream",
     "text": [
      "C:\\Users\\ACERNI~1\\AppData\\Local\\Temp/ipykernel_12984/1312825014.py:1: SettingWithCopyWarning: \n",
      "A value is trying to be set on a copy of a slice from a DataFrame.\n",
      "Try using .loc[row_indexer,col_indexer] = value instead\n",
      "\n",
      "See the caveats in the documentation: https://pandas.pydata.org/pandas-docs/stable/user_guide/indexing.html#returning-a-view-versus-a-copy\n",
      "  df_transform['Sales review'] = df_transform['Sales review'].astype(str)\n"
     ]
    }
   ],
   "source": [
    "df_transform['Sales review'] = df_transform['Sales review'].astype(str)"
   ]
  },
  {
   "cell_type": "markdown",
   "metadata": {},
   "source": [
    "##### Decision Tree"
   ]
  },
  {
   "cell_type": "code",
   "execution_count": 14,
   "metadata": {},
   "outputs": [],
   "source": [
    "# tạo dữ liệu để train model\n",
    "y = df_transform['Sales review'].values.reshape(-1, 1)\n",
    "X = df_transform.drop(columns='Sales review').values "
   ]
  },
  {
   "cell_type": "code",
   "execution_count": 15,
   "metadata": {},
   "outputs": [
    {
     "name": "stdout",
     "output_type": "stream",
     "text": [
      "(9800, 5) (9800, 1)\n"
     ]
    }
   ],
   "source": [
    "print(X.shape, y.shape) "
   ]
  },
  {
   "cell_type": "code",
   "execution_count": 16,
   "metadata": {},
   "outputs": [],
   "source": [
    "from sklearn.model_selection import train_test_split\n",
    "\n",
    "X_train, X_test, y_train, y_test = train_test_split(X,y, random_state=42, test_size=0.3)  # 10% dùng để test"
   ]
  },
  {
   "cell_type": "code",
   "execution_count": 17,
   "metadata": {},
   "outputs": [
    {
     "data": {
      "text/plain": [
       "DecisionTreeClassifier()"
      ]
     },
     "execution_count": 17,
     "metadata": {},
     "output_type": "execute_result"
    }
   ],
   "source": [
    "# Xay dung cay\n",
    "from sklearn.tree import DecisionTreeClassifier, DecisionTreeRegressor \n",
    "from sklearn.metrics import confusion_matrix \n",
    "from sklearn.metrics import plot_confusion_matrix \n",
    "\n",
    "my_tree = DecisionTreeClassifier()\n",
    "my_tree.fit(X_train, y_train)  "
   ]
  },
  {
   "cell_type": "code",
   "execution_count": 18,
   "metadata": {},
   "outputs": [
    {
     "name": "stdout",
     "output_type": "stream",
     "text": [
      "[[439 182  78  36]\n",
      " [334 168 100  94]\n",
      " [278 135 166 199]\n",
      " [163 110 181 277]]\n"
     ]
    }
   ],
   "source": [
    "# Du doan tren du lieu test\n",
    "\n",
    "y_pred = my_tree.predict(X_test)\n",
    "\n",
    "cm = confusion_matrix(y_test, y_pred)\n",
    "\n",
    "print(cm)"
   ]
  },
  {
   "cell_type": "code",
   "execution_count": 19,
   "metadata": {},
   "outputs": [
    {
     "data": {
      "text/plain": [
       "<sklearn.metrics._plot.confusion_matrix.ConfusionMatrixDisplay at 0x1d173610e50>"
      ]
     },
     "execution_count": 19,
     "metadata": {},
     "output_type": "execute_result"
    },
    {
     "data": {
      "image/png": "[encoded data removed]",
      "text/plain": [
       "<Figure size 432x288 with 2 Axes>"
      ]
     },
     "metadata": {
      "needs_background": "light"
     },
     "output_type": "display_data"
    }
   ],
   "source": [
    "plot_confusion_matrix(my_tree, X_test, y_test)"
   ]
  },
  {
   "cell_type": "code",
   "execution_count": 20,
   "metadata": {},
   "outputs": [],
   "source": [
    "# from sklearn import tree\n",
    "# fig = plt.figure(figsize=(15,10))\n",
    "# _ = tree.plot_tree(my_tree, feature_names=['Cost'], class_names=['Profit'], filled=True)"
   ]
  },
  {
   "cell_type": "code",
   "execution_count": 23,
   "metadata": {},
   "outputs": [],
   "source": [
    "df_transform.to_csv('df_trans.csv')"
   ]
  },
  {
   "cell_type": "code",
   "execution_count": null,
   "metadata": {},
   "outputs": [],
   "source": []
  }
 ],
 "metadata": {
  "interpreter": {
   "hash": "440c4360214cbd7cb3475a2b2e6c78f31c1d32bf5ea0dc5c31a0d7dd8338aeb9"
  },
  "kernelspec": {
   "display_name": "Python 3.9.7 ('base')",
   "language": "python",
   "name": "python3"
  },
  "language_info": {
   "codemirror_mode": {
    "name": "ipython",
    "version": 3
   },
   "file_extension": ".py",
   "mimetype": "text/x-python",
   "name": "python",
   "nbconvert_exporter": "python",
   "pygments_lexer": "ipython3",
   "version": "3.9.7"
  },
  "orig_nbformat": 4
 },
 "nbformat": 4,
 "nbformat_minor": 2
}
